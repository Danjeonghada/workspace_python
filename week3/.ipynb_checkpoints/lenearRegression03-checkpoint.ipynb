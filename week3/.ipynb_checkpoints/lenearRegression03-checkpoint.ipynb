{
 "cells": [
  {
   "cell_type": "code",
   "execution_count": 5,
   "id": "fc544983-7a5a-4951-9421-2f8891e71ce6",
   "metadata": {
    "collapsed": true,
    "jupyter": {
     "outputs_hidden": true
    }
   },
   "outputs": [
    {
     "name": "stdout",
     "output_type": "stream",
     "text": [
      "Requirement already satisfied: scikit-learn in c:\\users\\202-24\\anaconda3\\envs\\tech9\\lib\\site-packages (1.6.1)\n",
      "Requirement already satisfied: numpy>=1.19.5 in c:\\users\\202-24\\anaconda3\\envs\\tech9\\lib\\site-packages (from scikit-learn) (2.0.2)\n",
      "Requirement already satisfied: scipy>=1.6.0 in c:\\users\\202-24\\anaconda3\\envs\\tech9\\lib\\site-packages (from scikit-learn) (1.13.1)\n",
      "Requirement already satisfied: joblib>=1.2.0 in c:\\users\\202-24\\anaconda3\\envs\\tech9\\lib\\site-packages (from scikit-learn) (1.4.2)\n",
      "Requirement already satisfied: threadpoolctl>=3.1.0 in c:\\users\\202-24\\anaconda3\\envs\\tech9\\lib\\site-packages (from scikit-learn) (3.6.0)\n"
     ]
    }
   ],
   "source": [
    "# 맨해튼 주택 임대료\n",
    "# 다양한 독립 변수로 종속 변수인 rent 값을 예측하는 모델 학습.\n",
    "!pip install scikit-learn\n",
    "import pandas as pd\n",
    "import matplotlib.pyplot as plt\n",
    "from sklearn.linear_model import LinearRegression\n",
    "from sklearn.model_selection import train_test_split"
   ]
  },
  {
   "cell_type": "code",
   "execution_count": 6,
   "id": "85715ac0-61bd-4fc8-a419-8297a4817331",
   "metadata": {
    "collapsed": true,
    "jupyter": {
     "outputs_hidden": true
    }
   },
   "outputs": [
    {
     "name": "stdout",
     "output_type": "stream",
     "text": [
      "   rental_id   rent  bedrooms  bathrooms  size_sqft  min_to_subway  floor  \\\n",
      "0       1545   2550       0.0          1        480              9    2.0   \n",
      "1       2472  11500       2.0          2       2000              4    1.0   \n",
      "2       2919   4500       1.0          1        916              2   51.0   \n",
      "3       2790   4795       1.0          1        975              3    8.0   \n",
      "4       3946  17500       2.0          2       4800              3    4.0   \n",
      "\n",
      "   building_age_yrs  no_fee  has_roofdeck  has_washer_dryer  has_doorman  \\\n",
      "0                17       1             1                 0            0   \n",
      "1                96       0             0                 0            0   \n",
      "2                29       0             1                 0            1   \n",
      "3                31       0             0                 0            1   \n",
      "4               136       0             0                 0            1   \n",
      "\n",
      "   has_elevator  has_dishwasher  has_patio  has_gym       neighborhood  \\\n",
      "0             1               1          0        1    Upper East Side   \n",
      "1             0               0          0        0  Greenwich Village   \n",
      "2             1               1          0        0            Midtown   \n",
      "3             1               1          0        1  Greenwich Village   \n",
      "4             1               1          0        1               Soho   \n",
      "\n",
      "     borough  \n",
      "0  Manhattan  \n",
      "1  Manhattan  \n",
      "2  Manhattan  \n",
      "3  Manhattan  \n",
      "4  Manhattan  \n"
     ]
    }
   ],
   "source": [
    "df = pd.read_csv(\"../dataset/streeteasy/manhattan.csv\")\n",
    "print(df.head())"
   ]
  },
  {
   "cell_type": "code",
   "execution_count": 7,
   "id": "3e63a9fc-6f00-46eb-bc58-62c2ebda23e9",
   "metadata": {
    "collapsed": true,
    "jupyter": {
     "outputs_hidden": true
    }
   },
   "outputs": [
    {
     "data": {
      "text/html": [
       "<div>\n",
       "<style scoped>\n",
       "    .dataframe tbody tr th:only-of-type {\n",
       "        vertical-align: middle;\n",
       "    }\n",
       "\n",
       "    .dataframe tbody tr th {\n",
       "        vertical-align: top;\n",
       "    }\n",
       "\n",
       "    .dataframe thead th {\n",
       "        text-align: right;\n",
       "    }\n",
       "</style>\n",
       "<table border=\"1\" class=\"dataframe\">\n",
       "  <thead>\n",
       "    <tr style=\"text-align: right;\">\n",
       "      <th></th>\n",
       "      <th>rental_id</th>\n",
       "      <th>rent</th>\n",
       "      <th>bedrooms</th>\n",
       "      <th>bathrooms</th>\n",
       "      <th>size_sqft</th>\n",
       "      <th>min_to_subway</th>\n",
       "      <th>floor</th>\n",
       "      <th>building_age_yrs</th>\n",
       "      <th>no_fee</th>\n",
       "      <th>has_roofdeck</th>\n",
       "      <th>has_washer_dryer</th>\n",
       "      <th>has_doorman</th>\n",
       "      <th>has_elevator</th>\n",
       "      <th>has_dishwasher</th>\n",
       "      <th>has_patio</th>\n",
       "      <th>has_gym</th>\n",
       "    </tr>\n",
       "  </thead>\n",
       "  <tbody>\n",
       "    <tr>\n",
       "      <th>count</th>\n",
       "      <td>3539.000000</td>\n",
       "      <td>3539.000000</td>\n",
       "      <td>3539.000000</td>\n",
       "      <td>3539.000000</td>\n",
       "      <td>3539.000000</td>\n",
       "      <td>3539.000000</td>\n",
       "      <td>3539.000000</td>\n",
       "      <td>3539.000000</td>\n",
       "      <td>3539.000000</td>\n",
       "      <td>3539.000000</td>\n",
       "      <td>3539.000000</td>\n",
       "      <td>3539.000000</td>\n",
       "      <td>3539.000000</td>\n",
       "      <td>3539.000000</td>\n",
       "      <td>3539.000000</td>\n",
       "      <td>3539.000000</td>\n",
       "    </tr>\n",
       "    <tr>\n",
       "      <th>mean</th>\n",
       "      <td>5332.589997</td>\n",
       "      <td>5138.940379</td>\n",
       "      <td>1.351936</td>\n",
       "      <td>1.366770</td>\n",
       "      <td>939.727324</td>\n",
       "      <td>4.970896</td>\n",
       "      <td>11.908307</td>\n",
       "      <td>51.994914</td>\n",
       "      <td>0.403504</td>\n",
       "      <td>0.154846</td>\n",
       "      <td>0.160215</td>\n",
       "      <td>0.281153</td>\n",
       "      <td>0.294716</td>\n",
       "      <td>0.185646</td>\n",
       "      <td>0.055100</td>\n",
       "      <td>0.174908</td>\n",
       "    </tr>\n",
       "    <tr>\n",
       "      <th>std</th>\n",
       "      <td>3311.552136</td>\n",
       "      <td>3162.824760</td>\n",
       "      <td>0.967595</td>\n",
       "      <td>0.599588</td>\n",
       "      <td>477.949074</td>\n",
       "      <td>5.513589</td>\n",
       "      <td>10.960893</td>\n",
       "      <td>39.380433</td>\n",
       "      <td>0.490669</td>\n",
       "      <td>0.361809</td>\n",
       "      <td>0.366857</td>\n",
       "      <td>0.449625</td>\n",
       "      <td>0.455979</td>\n",
       "      <td>0.388875</td>\n",
       "      <td>0.228208</td>\n",
       "      <td>0.379942</td>\n",
       "    </tr>\n",
       "    <tr>\n",
       "      <th>min</th>\n",
       "      <td>1.000000</td>\n",
       "      <td>1300.000000</td>\n",
       "      <td>0.000000</td>\n",
       "      <td>0.000000</td>\n",
       "      <td>250.000000</td>\n",
       "      <td>0.000000</td>\n",
       "      <td>0.000000</td>\n",
       "      <td>0.000000</td>\n",
       "      <td>0.000000</td>\n",
       "      <td>0.000000</td>\n",
       "      <td>0.000000</td>\n",
       "      <td>0.000000</td>\n",
       "      <td>0.000000</td>\n",
       "      <td>0.000000</td>\n",
       "      <td>0.000000</td>\n",
       "      <td>0.000000</td>\n",
       "    </tr>\n",
       "    <tr>\n",
       "      <th>25%</th>\n",
       "      <td>2443.500000</td>\n",
       "      <td>3150.000000</td>\n",
       "      <td>1.000000</td>\n",
       "      <td>1.000000</td>\n",
       "      <td>613.000000</td>\n",
       "      <td>2.000000</td>\n",
       "      <td>4.000000</td>\n",
       "      <td>15.000000</td>\n",
       "      <td>0.000000</td>\n",
       "      <td>0.000000</td>\n",
       "      <td>0.000000</td>\n",
       "      <td>0.000000</td>\n",
       "      <td>0.000000</td>\n",
       "      <td>0.000000</td>\n",
       "      <td>0.000000</td>\n",
       "      <td>0.000000</td>\n",
       "    </tr>\n",
       "    <tr>\n",
       "      <th>50%</th>\n",
       "      <td>5128.000000</td>\n",
       "      <td>4000.000000</td>\n",
       "      <td>1.000000</td>\n",
       "      <td>1.000000</td>\n",
       "      <td>800.000000</td>\n",
       "      <td>4.000000</td>\n",
       "      <td>8.000000</td>\n",
       "      <td>39.000000</td>\n",
       "      <td>0.000000</td>\n",
       "      <td>0.000000</td>\n",
       "      <td>0.000000</td>\n",
       "      <td>0.000000</td>\n",
       "      <td>0.000000</td>\n",
       "      <td>0.000000</td>\n",
       "      <td>0.000000</td>\n",
       "      <td>0.000000</td>\n",
       "    </tr>\n",
       "    <tr>\n",
       "      <th>75%</th>\n",
       "      <td>8149.500000</td>\n",
       "      <td>6000.000000</td>\n",
       "      <td>2.000000</td>\n",
       "      <td>2.000000</td>\n",
       "      <td>1141.000000</td>\n",
       "      <td>6.000000</td>\n",
       "      <td>17.000000</td>\n",
       "      <td>90.000000</td>\n",
       "      <td>1.000000</td>\n",
       "      <td>0.000000</td>\n",
       "      <td>0.000000</td>\n",
       "      <td>1.000000</td>\n",
       "      <td>1.000000</td>\n",
       "      <td>0.000000</td>\n",
       "      <td>0.000000</td>\n",
       "      <td>0.000000</td>\n",
       "    </tr>\n",
       "    <tr>\n",
       "      <th>max</th>\n",
       "      <td>11349.000000</td>\n",
       "      <td>20000.000000</td>\n",
       "      <td>5.000000</td>\n",
       "      <td>5.000000</td>\n",
       "      <td>4800.000000</td>\n",
       "      <td>43.000000</td>\n",
       "      <td>83.000000</td>\n",
       "      <td>180.000000</td>\n",
       "      <td>1.000000</td>\n",
       "      <td>1.000000</td>\n",
       "      <td>1.000000</td>\n",
       "      <td>1.000000</td>\n",
       "      <td>1.000000</td>\n",
       "      <td>1.000000</td>\n",
       "      <td>1.000000</td>\n",
       "      <td>1.000000</td>\n",
       "    </tr>\n",
       "  </tbody>\n",
       "</table>\n",
       "</div>"
      ],
      "text/plain": [
       "          rental_id          rent     bedrooms    bathrooms    size_sqft  \\\n",
       "count   3539.000000   3539.000000  3539.000000  3539.000000  3539.000000   \n",
       "mean    5332.589997   5138.940379     1.351936     1.366770   939.727324   \n",
       "std     3311.552136   3162.824760     0.967595     0.599588   477.949074   \n",
       "min        1.000000   1300.000000     0.000000     0.000000   250.000000   \n",
       "25%     2443.500000   3150.000000     1.000000     1.000000   613.000000   \n",
       "50%     5128.000000   4000.000000     1.000000     1.000000   800.000000   \n",
       "75%     8149.500000   6000.000000     2.000000     2.000000  1141.000000   \n",
       "max    11349.000000  20000.000000     5.000000     5.000000  4800.000000   \n",
       "\n",
       "       min_to_subway        floor  building_age_yrs       no_fee  \\\n",
       "count    3539.000000  3539.000000       3539.000000  3539.000000   \n",
       "mean        4.970896    11.908307         51.994914     0.403504   \n",
       "std         5.513589    10.960893         39.380433     0.490669   \n",
       "min         0.000000     0.000000          0.000000     0.000000   \n",
       "25%         2.000000     4.000000         15.000000     0.000000   \n",
       "50%         4.000000     8.000000         39.000000     0.000000   \n",
       "75%         6.000000    17.000000         90.000000     1.000000   \n",
       "max        43.000000    83.000000        180.000000     1.000000   \n",
       "\n",
       "       has_roofdeck  has_washer_dryer  has_doorman  has_elevator  \\\n",
       "count   3539.000000       3539.000000  3539.000000   3539.000000   \n",
       "mean       0.154846          0.160215     0.281153      0.294716   \n",
       "std        0.361809          0.366857     0.449625      0.455979   \n",
       "min        0.000000          0.000000     0.000000      0.000000   \n",
       "25%        0.000000          0.000000     0.000000      0.000000   \n",
       "50%        0.000000          0.000000     0.000000      0.000000   \n",
       "75%        0.000000          0.000000     1.000000      1.000000   \n",
       "max        1.000000          1.000000     1.000000      1.000000   \n",
       "\n",
       "       has_dishwasher    has_patio      has_gym  \n",
       "count     3539.000000  3539.000000  3539.000000  \n",
       "mean         0.185646     0.055100     0.174908  \n",
       "std          0.388875     0.228208     0.379942  \n",
       "min          0.000000     0.000000     0.000000  \n",
       "25%          0.000000     0.000000     0.000000  \n",
       "50%          0.000000     0.000000     0.000000  \n",
       "75%          0.000000     0.000000     0.000000  \n",
       "max          1.000000     1.000000     1.000000  "
      ]
     },
     "execution_count": 7,
     "metadata": {},
     "output_type": "execute_result"
    }
   ],
   "source": [
    "df.describe()"
   ]
  },
  {
   "cell_type": "code",
   "execution_count": 8,
   "id": "0e00709f-a2ef-4682-b7ba-0d36342ae47a",
   "metadata": {
    "collapsed": true,
    "jupyter": {
     "outputs_hidden": true
    }
   },
   "outputs": [
    {
     "name": "stdout",
     "output_type": "stream",
     "text": [
      "<class 'pandas.core.frame.DataFrame'>\n",
      "RangeIndex: 3539 entries, 0 to 3538\n",
      "Data columns (total 18 columns):\n",
      " #   Column            Non-Null Count  Dtype  \n",
      "---  ------            --------------  -----  \n",
      " 0   rental_id         3539 non-null   int64  \n",
      " 1   rent              3539 non-null   int64  \n",
      " 2   bedrooms          3539 non-null   float64\n",
      " 3   bathrooms         3539 non-null   int64  \n",
      " 4   size_sqft         3539 non-null   int64  \n",
      " 5   min_to_subway     3539 non-null   int64  \n",
      " 6   floor             3539 non-null   float64\n",
      " 7   building_age_yrs  3539 non-null   int64  \n",
      " 8   no_fee            3539 non-null   int64  \n",
      " 9   has_roofdeck      3539 non-null   int64  \n",
      " 10  has_washer_dryer  3539 non-null   int64  \n",
      " 11  has_doorman       3539 non-null   int64  \n",
      " 12  has_elevator      3539 non-null   int64  \n",
      " 13  has_dishwasher    3539 non-null   int64  \n",
      " 14  has_patio         3539 non-null   int64  \n",
      " 15  has_gym           3539 non-null   int64  \n",
      " 16  neighborhood      3539 non-null   object \n",
      " 17  borough           3539 non-null   object \n",
      "dtypes: float64(2), int64(14), object(2)\n",
      "memory usage: 497.8+ KB\n"
     ]
    }
   ],
   "source": [
    "df.info()"
   ]
  },
  {
   "cell_type": "code",
   "execution_count": 9,
   "id": "cd676dae-ce9b-4697-8190-b35bee03841b",
   "metadata": {},
   "outputs": [
    {
     "data": {
      "text/plain": [
       "Index(['rental_id', 'rent', 'bedrooms', 'bathrooms', 'size_sqft',\n",
       "       'min_to_subway', 'floor', 'building_age_yrs', 'no_fee', 'has_roofdeck',\n",
       "       'has_washer_dryer', 'has_doorman', 'has_elevator', 'has_dishwasher',\n",
       "       'has_patio', 'has_gym', 'neighborhood', 'borough'],\n",
       "      dtype='object')"
      ]
     },
     "execution_count": 9,
     "metadata": {},
     "output_type": "execute_result"
    }
   ],
   "source": [
    "df.columns"
   ]
  },
  {
   "cell_type": "code",
   "execution_count": 19,
   "id": "26593134-9915-4042-a3d3-e30b96d87fb5",
   "metadata": {},
   "outputs": [
    {
     "data": {
      "text/plain": [
       "(2831, 14)"
      ]
     },
     "execution_count": 19,
     "metadata": {},
     "output_type": "execute_result"
    }
   ],
   "source": [
    "x = df[['bedrooms', 'bathrooms', 'size_sqft',\n",
    "       'min_to_subway', 'floor', 'building_age_yrs', 'no_fee', 'has_roofdeck',\n",
    "       'has_washer_dryer', 'has_doorman', 'has_elevator', 'has_dishwasher',\n",
    "       'has_patio', 'has_gym']]\n",
    "y = df[['rent']]\n",
    "# 학습 데이터, 테스트 데이터 분리\n",
    "x_train, x_test, y_train, y_test = train_test_split(x, y, test_size=0.2)\n",
    "x_train.shape"
   ]
  },
  {
   "cell_type": "code",
   "execution_count": 22,
   "id": "e772e284-983b-40b0-bc3c-db3e175076b9",
   "metadata": {},
   "outputs": [
    {
     "name": "stdout",
     "output_type": "stream",
     "text": [
      "[[-2.98241598e+02  1.18836056e+03  4.81877375e+00 -1.67726899e+01\n",
      "   2.50073839e+01 -7.37370582e+00 -9.93030920e+01  1.98851753e-01\n",
      "   1.85247409e+02 -1.50333100e+02  1.28841454e+02 -5.05686812e+01\n",
      "  -1.66588828e+02 -2.15756541e+01]]\n",
      "[-411.32912294]\n"
     ]
    }
   ],
   "source": [
    "# 모델 학습\n",
    "model = LinearRegression()\n",
    "model.fit(x_train, y_train)\n",
    "print(model.coef_) # 기울기\n",
    "print(model.intercept_) # 기울기"
   ]
  },
  {
   "cell_type": "code",
   "execution_count": 21,
   "id": "e5897f0d-b9f3-4f15-aaba-d86637ba9a24",
   "metadata": {},
   "outputs": [
    {
     "data": {
      "image/png": "[encoded data removed]",
      "text/plain": [
       "<Figure size 640x480 with 1 Axes>"
      ]
     },
     "metadata": {},
     "output_type": "display_data"
    }
   ],
   "source": [
    "y_pred = model.predict(x_test)\n",
    "plt.scatter(y_test, y_pred, alpha=0.4)\n",
    "plt.xlabel('actual rend')\n",
    "plt.ylabel('predicted rent')\n",
    "plt.show()"
   ]
  },
  {
   "cell_type": "code",
   "execution_count": 24,
   "id": "4ef6e724-97d3-4973-a6cb-32dc6483d0a1",
   "metadata": {},
   "outputs": [
    {
     "name": "stdout",
     "output_type": "stream",
     "text": [
      "R^2 score: 0.7723617314744924\n",
      "mse error: 2117623.701060027\n"
     ]
    }
   ],
   "source": [
    "from sklearn.metrics import mean_squared_error, r2_score\n",
    "mse = mean_squared_error(y_test, y_pred)\n",
    "r2 = r2_score(y_test, y_pred)\n",
    "# R2 스코어(결정개수) 모델이 목표변수의 분산을 얼마나 잘 설명하는지 나타내는 지표\n",
    "# (14개의 독립 변수로)75.190%의 분산이 모델에 의해 설명된다.\n",
    "print('R^2 score:', r2)\n",
    "print('mse error:', mse)"
   ]
  },
  {
   "cell_type": "code",
   "execution_count": 25,
   "id": "3885411f-b140-4376-9463-bf8815fef763",
   "metadata": {},
   "outputs": [
    {
     "name": "stderr",
     "output_type": "stream",
     "text": [
      "C:\\Users\\202-24\\AppData\\Local\\Temp\\ipykernel_8632\\632433272.py:12: UserWarning: Glyph 8722 (\\N{MINUS SIGN}) missing from font(s) Malgun Gothic.\n",
      "  plt.tight_layout()\n",
      "C:\\Users\\202-24\\anaconda3\\envs\\tech9\\lib\\site-packages\\IPython\\core\\pylabtools.py:152: UserWarning: Glyph 8722 (\\N{MINUS SIGN}) missing from font(s) Malgun Gothic.\n",
      "  fig.canvas.print_figure(bytes_io, **kw)\n"
     ]
    },
    {
     "data": {
      "image/png": "[encoded data removed]",
      "text/plain": [
       "<Figure size 1000x600 with 1 Axes>"
      ]
     },
     "metadata": {},
     "output_type": "display_data"
    }
   ],
   "source": [
    "plt.rcParams['font.family'] = 'Malgun Gothic'\n",
    "coef_df = pd.DataFrame({'feature': x.columns, 'coefficient': model.coef_[0]})\n",
    "coef_df['abs_coef'] = coef_df['coefficient'].abs()\n",
    "coef_sorted = coef_df.sort_values(by='abs_coef', ascending=False)\n",
    "# 시각화\n",
    "plt.figure(figsize=(10, 6))\n",
    "plt.barh(coef_sorted['feature'], coef_sorted['coefficient'])\n",
    "plt.xlabel('회귀 계수(기울기)')\n",
    "plt.ylabel('임대료에 영향을 미치는 주요 변수')\n",
    "plt.gca().invert_yaxis() # 큰 영향이 위로 가도록\n",
    "plt.grid(True)\n",
    "plt.tight_layout()\n",
    "plt.show()"
   ]
  },
  {
   "cell_type": "code",
   "execution_count": 27,
   "id": "2eb744f8-7716-4794-86ab-ece858e3516c",
   "metadata": {},
   "outputs": [
    {
     "name": "stdout",
     "output_type": "stream",
     "text": [
      "샘플 1\n",
      "실제 임대료: 1895\n",
      "x_sample.iloc[i]\n",
      "예측 임대료: [3980.63550329]\n",
      "샘플 2\n",
      "실제 임대료: 3000\n",
      "x_sample.iloc[i]\n",
      "예측 임대료: [3324.66986566]\n",
      "샘플 3\n",
      "실제 임대료: 2500\n",
      "x_sample.iloc[i]\n",
      "예측 임대료: [3360.63025967]\n",
      "샘플 4\n",
      "실제 임대료: 4350\n",
      "x_sample.iloc[i]\n",
      "예측 임대료: [3845.52656586]\n",
      "샘플 5\n",
      "실제 임대료: 6700\n",
      "x_sample.iloc[i]\n",
      "예측 임대료: [5331.7044385]\n"
     ]
    }
   ],
   "source": [
    "import numpy as np\n",
    "num_samples = 5 # 임의로 5개\n",
    "random_idx = np.random.choice(x_test.index, size=num_samples, replace=False)\n",
    "x_sample = x_test.loc[random_idx]\n",
    "y_sample_actual = y_test.loc[random_idx]\n",
    "# 선택한 샘플로 예측\n",
    "y_sample_pred = model.predict(x_sample)\n",
    "for i in range(num_samples):\n",
    "    print(f\"샘플 {i + 1}\")\n",
    "    print(f\"실제 임대료: {y_sample_actual.iloc[i].values[0]}\")\n",
    "    print(f\"x_sample.iloc[i]\")\n",
    "    print(f\"예측 임대료: {y_sample_pred[i]}\")"
   ]
  },
  {
   "cell_type": "code",
   "execution_count": 28,
   "id": "b20b5252-5189-4738-b87a-874f49124f00",
   "metadata": {},
   "outputs": [
    {
     "name": "stdout",
     "output_type": "stream",
     "text": [
      "model save!\n"
     ]
    }
   ],
   "source": [
    "import pickle\n",
    "# 파이썬 객체를 직렬화 하고 역직렬화 하는데 사용되는 라이브러리\n",
    "# 직렬화 : 파이썬 객체를 바이트 스트림 형태로 변환\n",
    "# 역직렬화 : 바이트 스트림을 객체로 복원\n",
    "\n",
    "# 학습된 모델 저장\n",
    "with open(\"manhattan_model.pk\", 'wb') as f:\n",
    "    pickle.dump(model, f)\n",
    "print(\"model save!\")"
   ]
  },
  {
   "cell_type": "code",
   "execution_count": null,
   "id": "82f2025d-7311-4701-87e1-fad289569d87",
   "metadata": {},
   "outputs": [],
   "source": []
  }
 ],
 "metadata": {
  "kernelspec": {
   "display_name": "Python(tech9)",
   "language": "python",
   "name": "tech9"
  },
  "language_info": {
   "codemirror_mode": {
    "name": "ipython",
    "version": 3
   },
   "file_extension": ".py",
   "mimetype": "text/x-python",
   "name": "python",
   "nbconvert_exporter": "python",
   "pygments_lexer": "ipython3",
   "version": "3.9.21"
  }
 },
 "nbformat": 4,
 "nbformat_minor": 5
}
